{
 "cells": [
  {
   "cell_type": "code",
   "execution_count": 2,
   "id": "dcaac2e6",
   "metadata": {},
   "outputs": [],
   "source": [
    "#Importing necessary libraries \n",
    "import matplotlib.pyplot as plt \n",
    "import numpy as np\n",
    "import pandas as pd\n",
    "import pandasql as ps\n",
    "import sqlite3"
   ]
  },
  {
   "cell_type": "code",
   "execution_count": 3,
   "id": "5e9cc68b",
   "metadata": {},
   "outputs": [],
   "source": [
    "#Loading affiliated datadfames. \n",
    "df_movies=pd.read_csv('movies.csv')\n",
    "df_rating=pd.read_csv('ratings.csv')"
   ]
  },
  {
   "cell_type": "code",
   "execution_count": 4,
   "id": "c9bf9e4e",
   "metadata": {},
   "outputs": [
    {
     "data": {
      "text/plain": [
       "title\n",
       "Cinderella                    11\n",
       "Alice in Wonderland            9\n",
       "Hamlet                         9\n",
       "Les Misérables                 8\n",
       "Beauty and the Beast           8\n",
       "                              ..\n",
       "Hollywood Adventures           1\n",
       "Hollywood Boulevard            1\n",
       "Hollywood Canteen              1\n",
       "Hollywood Chainsaw Hookers     1\n",
       "ファンタスティポ                       1\n",
       "Length: 42027, dtype: int64"
      ]
     },
     "execution_count": 4,
     "metadata": {},
     "output_type": "execute_result"
    }
   ],
   "source": [
    "#Movies with same titles exists but have different IDs, since there are different movies released over time with same title\n",
    "a=df_movies.groupby(['title'])\n",
    "a.size().sort_values(ascending= False)"
   ]
  },
  {
   "cell_type": "code",
   "execution_count": 5,
   "id": "d332a990",
   "metadata": {},
   "outputs": [
    {
     "name": "stdout",
     "output_type": "stream",
     "text": [
      "Enter movie id: 1365\n",
      "                              title\n",
      "0                           Ice Age\n",
      "1                  Army of Darkness\n",
      "2   Beavis and Butt-Head Do America\n",
      "3                      Run Lola Run\n",
      "4                    X: The Unknown\n",
      "5                          Elephant\n",
      "6                     Halloweentown\n",
      "7      The Incredible Shrinking Man\n",
      "8                   Pieces of April\n",
      "9                 Conquest of Space\n",
      "10                 10 Items or Less\n",
      "11                    Union Station\n",
      "12                        Long Pigs\n",
      "13                           Calmos\n",
      "14             The Wild Blue Yonder\n"
     ]
    }
   ],
   "source": [
    "a = input('Enter movie id: ')\n",
    "\n",
    "query = f\"\"\" SELECT DISTINCT df_movies.title\n",
    "FROM df_movies JOIN df_rating ON df_movies.id = df_rating.movieId\n",
    "WHERE (df_movies.runtime, df_rating.rating) = \n",
    "(SELECT runtime, rating FROM df_movies WHERE id = {a} & runtime BETWEEN 0 AND 250 )\n",
    "ORDER BY df_movies.popularity DESC\n",
    "LIMIT 15\n",
    "\"\"\"\n",
    "result = ps.sqldf(query, locals())\n",
    "\n",
    "print(result)"
   ]
  },
  {
   "cell_type": "code",
   "execution_count": null,
   "id": "dc35e104",
   "metadata": {},
   "outputs": [],
   "source": []
  }
 ],
 "metadata": {
  "kernelspec": {
   "display_name": "Python 3 (ipykernel)",
   "language": "python",
   "name": "python3"
  },
  "language_info": {
   "codemirror_mode": {
    "name": "ipython",
    "version": 3
   },
   "file_extension": ".py",
   "mimetype": "text/x-python",
   "name": "python",
   "nbconvert_exporter": "python",
   "pygments_lexer": "ipython3",
   "version": "3.11.5"
  }
 },
 "nbformat": 4,
 "nbformat_minor": 5
}
