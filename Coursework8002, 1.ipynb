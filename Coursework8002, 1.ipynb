{
 "cells": [
  {
   "cell_type": "code",
   "execution_count": null,
   "id": "8f0c8d78",
   "metadata": {},
   "outputs": [],
   "source": [
    "#Importing necessary library functions: \n",
    "import matplotlib.pyplot as plt \n",
    "import numpy as np\n",
    "import pandas as pd\n",
    "import json\n",
    "import ast\n",
    "#Importing CSV files\n",
    "df_keywords=pd.read_csv('keywords.csv')\n",
    "df_movies=pd.read_csv('movies.csv')\n",
    "df_credits=pd.read_csv('credits.csv')\n",
    "df_ratings=pd.read_csv('ratings.csv')"
   ]
  },
  {
   "cell_type": "code",
   "execution_count": null,
   "id": "c2d4a715",
   "metadata": {},
   "outputs": [],
   "source": [
    "##The ast.literal_eval function is used to safely evaluate the string representation of the list of dictionaries in each row.\n",
    "prod_com= df_movies['production_companies'].apply(lambda x: [item['name'] for item in ast.literal_eval(x)])\n",
    "prod_com"
   ]
  },
  {
   "cell_type": "code",
   "execution_count": null,
   "id": "2c0de892",
   "metadata": {},
   "outputs": [],
   "source": [
    "#The ast.literal_eval function is used to safely evaluate the string representation of the list of dictionaries in each row.\n",
    "prod_id= df_movies['production_companies'].apply(lambda x: [item['id'] for item in ast.literal_eval(x)])\n",
    "prod_id"
   ]
  },
  {
   "cell_type": "code",
   "execution_count": null,
   "id": "499c3f45",
   "metadata": {},
   "outputs": [],
   "source": [
    "## Createing another table, called prod_com_info\n",
    "prod_com_info= pd.DataFrame()"
   ]
  },
  {
   "cell_type": "code",
   "execution_count": null,
   "id": "9681d477",
   "metadata": {},
   "outputs": [],
   "source": [
    "##Creating columns with production id- 'prod_id' & production company -'prod_com' data\n",
    "prod_com_info['prod_id']= prod_id\n",
    "prod_com_info['prod_com']=prod_com"
   ]
  },
  {
   "cell_type": "code",
   "execution_count": null,
   "id": "dfe7858b",
   "metadata": {},
   "outputs": [],
   "source": [
    "prod_com_info"
   ]
  },
  {
   "cell_type": "code",
   "execution_count": null,
   "id": "beded858",
   "metadata": {},
   "outputs": [],
   "source": [
    "# createing another table, called MovieProductionCompany\n",
    "MovieProductionCompany= pd.DataFrame()\n"
   ]
  },
  {
   "cell_type": "code",
   "execution_count": null,
   "id": "4c9eca7b",
   "metadata": {},
   "outputs": [],
   "source": [
    "#Creating columns [' MovieId'] and providing Data \n",
    "MovieProductionCompany[' MovieId'] = df_movies['id']"
   ]
  },
  {
   "cell_type": "code",
   "execution_count": null,
   "id": "c8cf6b34",
   "metadata": {},
   "outputs": [],
   "source": [
    "#Creating columns [' ProductionCompanyId'] and providing Data \n",
    "MovieProductionCompany['ProductionCompanyId'] = prod_com_info['prod_id']"
   ]
  },
  {
   "cell_type": "code",
   "execution_count": null,
   "id": "fb983c0b",
   "metadata": {},
   "outputs": [],
   "source": [
    "MovieProductionCompany"
   ]
  },
  {
   "cell_type": "code",
   "execution_count": null,
   "id": "8ed305e2",
   "metadata": {},
   "outputs": [],
   "source": [
    "#Task1 (b) \n",
    "import pandasql as ps"
   ]
  },
  {
   "cell_type": "code",
   "execution_count": null,
   "id": "0e792d72",
   "metadata": {},
   "outputs": [],
   "source": [
    "df_movies.head(2)"
   ]
  },
  {
   "cell_type": "code",
   "execution_count": null,
   "id": "ec31d1f0",
   "metadata": {},
   "outputs": [],
   "source": [
    "df_exploded=MovieProductionCompany.explode(['ProductionCompanyId'])"
   ]
  },
  {
   "cell_type": "code",
   "execution_count": null,
   "id": "7c95e8fa",
   "metadata": {},
   "outputs": [],
   "source": [
    "\n",
    "\n"
   ]
  },
  {
   "cell_type": "code",
   "execution_count": null,
   "id": "b0b49ebd",
   "metadata": {},
   "outputs": [],
   "source": []
  }
 ],
 "metadata": {
  "kernelspec": {
   "display_name": "Python 3 (ipykernel)",
   "language": "python",
   "name": "python3"
  },
  "language_info": {
   "codemirror_mode": {
    "name": "ipython",
    "version": 3
   },
   "file_extension": ".py",
   "mimetype": "text/x-python",
   "name": "python",
   "nbconvert_exporter": "python",
   "pygments_lexer": "ipython3",
   "version": "3.11.5"
  }
 },
 "nbformat": 4,
 "nbformat_minor": 5
}
